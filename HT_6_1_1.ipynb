{
  "nbformat": 4,
  "nbformat_minor": 0,
  "metadata": {
    "colab": {
      "provenance": [],
      "authorship_tag": "ABX9TyNumtzealS3B7qwukHa8fed",
      "include_colab_link": true
    },
    "kernelspec": {
      "name": "python3",
      "display_name": "Python 3"
    },
    "language_info": {
      "name": "python"
    }
  },
  "cells": [
    {
      "cell_type": "markdown",
      "metadata": {
        "id": "view-in-github",
        "colab_type": "text"
      },
      "source": [
        "<a href=\"https://colab.research.google.com/github/tetiana-martynenko/Python-For-DS/blob/main/HT_6_1_1.ipynb\" target=\"_parent\"><img src=\"https://colab.research.google.com/assets/colab-badge.svg\" alt=\"Open In Colab\"/></a>"
      ]
    },
    {
      "cell_type": "markdown",
      "source": [
        "# Задача 1"
      ],
      "metadata": {
        "id": "WahiZ6Dhnl8D"
      }
    },
    {
      "cell_type": "markdown",
      "source": [
        "Ви —  продакт менеджер в компанії, яка займається мобільними додатками. Ваша модель монетизації — підписка. У травні 2019 року до вас приєдналося 100 підписників, у червні — 150, у липні — 170. Скільки ці користувачі принесли вам до травня 2021 року включно, якщо щомісячний рівень відтоку становить 5%, а підписка коштує $10?"
      ],
      "metadata": {
        "id": "WCkOC4iKlvwA"
      }
    },
    {
      "cell_type": "markdown",
      "source": [
        "Спочатку записуємо вихідні дані:"
      ],
      "metadata": {
        "id": "5_gq2G8BO2lS"
      }
    },
    {
      "cell_type": "code",
      "source": [
        "from datetime import datetime\n",
        "\n",
        "end_date = datetime(2021, 5, 1)\n",
        "subscription_fee = 10  # ціна підписки\n",
        "churn_rate = 0.05  # % відтоку\n",
        "subs_groups = {\n",
        "    \"May 2019\": 100,  # місяці приєднання підписників та їх к-ть\n",
        "    \"June 2019\": 150,\n",
        "    \"July 2019\": 170,\n",
        "}"
      ],
      "metadata": {
        "id": "wetZ6oHDO5ya"
      },
      "execution_count": null,
      "outputs": []
    },
    {
      "cell_type": "code",
      "source": [
        "r = 1 - churn_rate"
      ],
      "metadata": {
        "id": "FL4I8WnyRpO6"
      },
      "execution_count": null,
      "outputs": []
    },
    {
      "cell_type": "markdown",
      "source": [
        "Записуємо функцію для визначення к-ті роботи кожної з груп підписників:"
      ],
      "metadata": {
        "id": "0o6R3iKIO-47"
      }
    },
    {
      "cell_type": "code",
      "source": [
        "def calc_month_active(start_month, end_date):\n",
        "    start_date__to_obj = datetime.strptime(start_month, \"%B %Y\")\n",
        "    months_active = (end_date.year - start_date__to_obj.year) * 12 + end_date.month - start_date__to_obj.month\n",
        "    return months_active"
      ],
      "metadata": {
        "id": "O4o8xovjPGHw"
      },
      "execution_count": null,
      "outputs": []
    },
    {
      "cell_type": "markdown",
      "source": [
        "Записуємо формулу геометричної прогресії у функцію:"
      ],
      "metadata": {
        "id": "9GtZnipCQHyr"
      }
    },
    {
      "cell_type": "code",
      "source": [
        "def calc_revenue(subsc_start, r, months_active, subscription_fee):\n",
        "    revenue = subsc_start * ((r ** months_active) -1 )/ (r - 1)\n",
        "    return revenue * subscription_fee"
      ],
      "metadata": {
        "id": "NFCypATBQHjW"
      },
      "execution_count": null,
      "outputs": []
    },
    {
      "cell_type": "markdown",
      "source": [
        "Визначаємо знаменник прогресії:"
      ],
      "metadata": {
        "id": "1dE909M2Rikp"
      }
    },
    {
      "cell_type": "markdown",
      "source": [
        "Рахуємо загальний дохід:"
      ],
      "metadata": {
        "id": "LN7tWSKsRtIu"
      }
    },
    {
      "cell_type": "code",
      "source": [
        "total_revenue = 0"
      ],
      "metadata": {
        "id": "snWNAC5jfRCa"
      },
      "execution_count": null,
      "outputs": []
    },
    {
      "cell_type": "code",
      "source": [
        "for start_month, subscribers in subs_groups.items():\n",
        "    months_active = calc_month_active(start_month, end_date)\n",
        "    group_revenue = calc_revenue(subscribers, r, months_active, subscription_fee)\n",
        "    total_revenue += group_revenue"
      ],
      "metadata": {
        "id": "Mzl8J4uMRzH-"
      },
      "execution_count": null,
      "outputs": []
    },
    {
      "cell_type": "code",
      "source": [
        "\n",
        "print(f\"Загальний дохід: ${total_revenue:.2f}\")\n"
      ],
      "metadata": {
        "colab": {
          "base_uri": "https://localhost:8080/"
        },
        "id": "L8yJOD4pId9c",
        "outputId": "bd1df304-61d8-4506-accd-f11c8e6dcbd0"
      },
      "execution_count": null,
      "outputs": [
        {
          "output_type": "stream",
          "name": "stdout",
          "text": [
            "Загальний дохід: $57939.37\n"
          ]
        }
      ]
    },
    {
      "cell_type": "markdown",
      "source": [
        "# Задача 2"
      ],
      "metadata": {
        "id": "4lPtIbyDtgL6"
      }
    },
    {
      "cell_type": "markdown",
      "source": [
        "Ви — менеджер по роботі з продуктом в компанії, яка розробляє мобільні ігри. Вашою метою є збільшення кількості активних користувачів. У січні 2020 року у вас було 2000 активних користувачів. З лютого кількість активних користувачів щомісяця зростає на 3%. У той же час, 2% користувачів щомісяця перестають користуватися додатком. Якою буде кількість активних користувачів за весь період від січня 2020 року до кінця грудня 2021 року?"
      ],
      "metadata": {
        "id": "oNTyrmf8fldZ"
      }
    },
    {
      "cell_type": "code",
      "source": [
        "start_date = 'January 2020'\n",
        "end_date = datetime(2021, 1, 1)\n",
        "\n",
        "churn_rate = 0.98  # 2% відтоку\n",
        "growth_rate = 1.03  # 3% притоку\n",
        "\n",
        "start_subscr = 2000 # підписники на початку\n"
      ],
      "metadata": {
        "id": "lV8uqr8zikMq"
      },
      "execution_count": 237,
      "outputs": []
    },
    {
      "cell_type": "code",
      "source": [
        "months_active  = calc_month_active(start_date, end_date) # використовуємо функцію з попереднього завдання, щоб визначити к-ть місяців роботи\n",
        "months_active"
      ],
      "metadata": {
        "id": "BRVPlAy7jz8g",
        "colab": {
          "base_uri": "https://localhost:8080/"
        },
        "outputId": "6601af88-3d3f-4f1f-d23f-cf003a2b0b6a"
      },
      "execution_count": 239,
      "outputs": [
        {
          "output_type": "execute_result",
          "data": {
            "text/plain": [
              "12"
            ]
          },
          "metadata": {},
          "execution_count": 239
        }
      ]
    },
    {
      "cell_type": "code",
      "source": [
        "r_users = churn_rate * growth_rate #виходячи з того, що відсоток відтоку та притоку - знаменники прогресії, в результаті для формули ми їх просто перемножуємо, щоб знайти загальний знаменник\n",
        "r_users"
      ],
      "metadata": {
        "id": "klfj6ijXlWBR",
        "colab": {
          "base_uri": "https://localhost:8080/"
        },
        "outputId": "e61416a0-63a0-45e2-cfe3-30471b39ca3c"
      },
      "execution_count": 241,
      "outputs": [
        {
          "output_type": "execute_result",
          "data": {
            "text/plain": [
              "1.0094"
            ]
          },
          "metadata": {},
          "execution_count": 241
        }
      ]
    },
    {
      "cell_type": "code",
      "source": [
        "active_users = start_subscr * (r_users ** (months_active - 1 )) # так як нам потрібна к-ть людей на початок наступного року, тому використовуємо формулу геометричної прогресії для n-члена(12 у нашому випадку)\n",
        "active_users"
      ],
      "metadata": {
        "id": "B5uJkRg0kulX",
        "colab": {
          "base_uri": "https://localhost:8080/"
        },
        "outputId": "af070a1b-ad2f-4fd7-cd72-357516e273c6"
      },
      "execution_count": 245,
      "outputs": [
        {
          "output_type": "execute_result",
          "data": {
            "text/plain": [
              "2216.7989141176095"
            ]
          },
          "metadata": {},
          "execution_count": 245
        }
      ]
    },
    {
      "cell_type": "code",
      "source": [
        "print(f\"Кількість активних користувачів на за весь 2020 рік складає {active_users:.0f} людини\")"
      ],
      "metadata": {
        "colab": {
          "base_uri": "https://localhost:8080/"
        },
        "id": "NqZcuQ_Xlpow",
        "outputId": "12014b27-1f32-4b97-d046-08bce5188c58"
      },
      "execution_count": 246,
      "outputs": [
        {
          "output_type": "stream",
          "name": "stdout",
          "text": [
            "Кількість активних користувачів на за весь 2020 рік складає 2217 людини\n"
          ]
        }
      ]
    },
    {
      "cell_type": "markdown",
      "source": [
        "# Задача 3"
      ],
      "metadata": {
        "id": "cTznT2aFp8pl"
      }
    },
    {
      "cell_type": "markdown",
      "source": [
        "Ви — менеджер з розвитку бізнесу в компанії, що займається створенням платформи для онлайн-курсів. У січні 2021 року ви залучили 500 нових користувачів. У лютому кількість нових користувачів зросла на 50%, у березні — ще на 20%. З квітня приріст нових користувачів стабілізувався на рівні 10% щомісяця.Скільки активних користувачів ви мали загалом за перше півріччя 2021 року?"
      ],
      "metadata": {
        "id": "zOpekQREqAyJ"
      }
    },
    {
      "cell_type": "markdown",
      "source": [
        "Для спрощення завдання запишемо поетапно:"
      ],
      "metadata": {
        "id": "Z3pi6Mt3q4Yv"
      }
    },
    {
      "cell_type": "code",
      "source": [
        "x1 = 500\n",
        "x2 = 500 * 1.5\n",
        "x3 = 500 * 1.5 * 1.2\n",
        "x4 = 500 * 1.5 * 1.2 * 1.1\n",
        "x5 = 500 * 1.5 * 1.2 * 1.1 *1.1\n",
        "x6 = 500 * 1.5 * 1.2 * 1.1 *1.1 *1.1"
      ],
      "metadata": {
        "id": "IQ2i-QhCqEUc"
      },
      "execution_count": null,
      "outputs": []
    },
    {
      "cell_type": "markdown",
      "source": [
        "В результаті, можна порахувати к-ть користувачів як добутотов користувачів на старті та добуток коефіцієнтів приросту (аналогічно попередньому завданню)."
      ],
      "metadata": {
        "id": "pVr0N0Okrr1x"
      }
    },
    {
      "cell_type": "code",
      "source": [
        "x6 = 500 * (1.5 * 1.2 * 1.1 ** (6 - 1 - 2))\n",
        "x6"
      ],
      "metadata": {
        "colab": {
          "base_uri": "https://localhost:8080/"
        },
        "id": "kVbcjwfdrWdP",
        "outputId": "1aa913a4-40c0-4a23-b581-ae18fd6c18d7"
      },
      "execution_count": 248,
      "outputs": [
        {
          "output_type": "execute_result",
          "data": {
            "text/plain": [
              "1317.6900000000003"
            ]
          },
          "metadata": {},
          "execution_count": 248
        }
      ]
    },
    {
      "cell_type": "markdown",
      "source": [
        "\"1.1 ** (6 - 1 - 2))\" - узагальнено коефіцієнт приросту, так як починаючи з третього місяця він став стабільним 10%.\n",
        "Звідси \"6\" - номер періоду на кінець першого півріччя\n",
        "\"-1\" - з формули про знаходження n-го члена прогресії\n",
        "\"-2\" - вже враховані коефіцієнти прирости"
      ],
      "metadata": {
        "id": "_nTAodgiskto"
      }
    }
  ]
}