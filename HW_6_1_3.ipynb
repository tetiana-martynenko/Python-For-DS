{
  "nbformat": 4,
  "nbformat_minor": 0,
  "metadata": {
    "colab": {
      "provenance": [],
      "authorship_tag": "ABX9TyMQcAIMkBBz8+9AoPO050GN",
      "include_colab_link": true
    },
    "kernelspec": {
      "name": "python3",
      "display_name": "Python 3"
    },
    "language_info": {
      "name": "python"
    }
  },
  "cells": [
    {
      "cell_type": "markdown",
      "metadata": {
        "id": "view-in-github",
        "colab_type": "text"
      },
      "source": [
        "<a href=\"https://colab.research.google.com/github/tetiana-martynenko/Python-For-DS/blob/main/HW_6_1_3.ipynb\" target=\"_parent\"><img src=\"https://colab.research.google.com/assets/colab-badge.svg\" alt=\"Open In Colab\"/></a>"
      ]
    },
    {
      "cell_type": "markdown",
      "source": [
        "# Завдання 1"
      ],
      "metadata": {
        "id": "CRGpOv8iua_Z"
      }
    },
    {
      "cell_type": "markdown",
      "source": [
        "Скільки різних паролів можна скласти, використовуючи три літери англійського алфавіту, якщо літери не повинні повторюватися?\\"
      ],
      "metadata": {
        "id": "SEQxGqPcud8D"
      }
    },
    {
      "cell_type": "markdown",
      "source": [
        "У даному випадку застосуємо правило перестановок, так як будуть ті ж елементи, але у різних комбінаціях й ми хоче уникнути повторень.\n",
        "Всього літер 26 у алфавіті.\n",
        "Для пароля будемо використовувати 3 з 26.\n",
        "\n",
        "\n"
      ],
      "metadata": {
        "id": "tkb6bV27uhqH"
      }
    },
    {
      "cell_type": "markdown",
      "source": [
        "$$С\\binom{3}{26} = \\frac{26!}{(26-3)!} = \\frac {26!}{23!} = 24 * 25 * 26 = 15 600$$\n"
      ],
      "metadata": {
        "id": "V9B9nYU7wEaN"
      }
    },
    {
      "cell_type": "markdown",
      "source": [
        "# Завдання 2"
      ],
      "metadata": {
        "id": "xoSzB5iryEXS"
      }
    },
    {
      "cell_type": "markdown",
      "source": [
        "Є група з 8 людей. Скількома способами можна обрати комітет із 3 осіб?"
      ],
      "metadata": {
        "id": "Q8NzM61PyGuU"
      }
    },
    {
      "cell_type": "markdown",
      "source": [
        "Так як порядок не має значення й повторень бути не може, тому це сполучення без повторень."
      ],
      "metadata": {
        "id": "X5ZsqfFr0kP5"
      }
    },
    {
      "cell_type": "markdown",
      "source": [
        "$$С\\binom{3}{8} = \\frac{8!}{(8-3)! * 3!}  = \\frac {8!}{5! 3!} = \\frac {6 * 7 * 8}{1 * 2 * 3} = 56$$\n"
      ],
      "metadata": {
        "id": "eGE_JH8r00Og"
      }
    },
    {
      "cell_type": "markdown",
      "source": [
        "# Завдання 3"
      ],
      "metadata": {
        "id": "PaVYTvZ64wFT"
      }
    },
    {
      "cell_type": "markdown",
      "source": [
        "Скількома різними способами можна розташувати на полиці 5 різних книг?"
      ],
      "metadata": {
        "id": "jfFpdZC648iM"
      }
    },
    {
      "cell_type": "markdown",
      "source": [
        "Так як порядок має значення, бо кожна комбінація буде врахована, а значення не будуть повторюватися, то тут застосуємо формулу перестановки.\n"
      ],
      "metadata": {
        "id": "0R3Cnhjs5GGY"
      }
    },
    {
      "cell_type": "code",
      "source": [
        "P(n) = n! = 5! = 1 * 2 * 3 * 4 * 5 = 120"
      ],
      "metadata": {
        "id": "UObDUOOV6OHO"
      },
      "execution_count": null,
      "outputs": []
    },
    {
      "cell_type": "markdown",
      "source": [
        "# Завдання 4"
      ],
      "metadata": {
        "id": "L762NAYM6gMw"
      }
    },
    {
      "cell_type": "markdown",
      "source": [
        "В урні знаходяться 4 червоні, 3 сині і 2 зелені кулі. Скількома способами можна витягти 3 кулі, якщо вони повинні бути різних кольорів?"
      ],
      "metadata": {
        "id": "T0pMXsRa6lDc"
      }
    },
    {
      "cell_type": "markdown",
      "source": [
        "Так як вибір кожної кулі не залежить від інших, ми застосовуємо правило добутку комбінаторики.\n",
        "Тобто, для кожного вибору червоної кулі (4 варіанти) ми можемо вибрати одну з 3 синіх куль, а для кожної пари (червона + синя) ми можемо вибрати одну з 2 зелених куль.\n",
        "Відповідно, к-ть способів = 4 * 3 * 2 = 24\n",
        "\n"
      ],
      "metadata": {
        "id": "SBMbb8eu6pvc"
      }
    }
  ]
}